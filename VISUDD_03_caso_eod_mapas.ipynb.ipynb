{
 "cells": [
  {
   "cell_type": "markdown",
   "metadata": {},
   "source": [
    "# Visualización de Información en Python\n",
    "\n",
    "> **Autor** \\\n",
    "> Eduardo Graells-Garrido \\\n",
    "> Instituto de Data Science UDD \\\n",
    "> Telefónica I+D Chile \\\n",
    "> egraells@udd.cl \\\n",
    "> @carnby\n",
    "\n",
    "## Sesión 3: Visualización de Datos Geográficos\n",
    "\n",
    "> **Caso de Estudio** \\\n",
    "> Data Set: Encuesta de Viajes (Origen-Destino) de Santiago, 2012 \\\n",
    "> Data Set: [Mapas del Censo](http://www.censo2017.cl/servicio-de-mapas/), 2017 \\\n",
    "> Diplomado en Data Science UDD\n",
    "\n",
    "## Introducción\n",
    "\n",
    "En este notebook trabajaremos con información geográfica. Seguiremos estudiando el data set de viajes de la encuesta origen-destino, esta vez enfocándonos en distintos patrones geográficos que puedan ayudarnos a responder preguntas específicas.\n",
    "\n",
    "### Lo que Haremos \n",
    "\n",
    "  1. Aprenderemos a cargar y procesar datos geográficos en formato shapefile, con la biblioteca `geopandas`.\n",
    "  2. Aprenderemos a realizar _dot plots_.\n",
    "  3. Aprenderemos a realizar _choropleth maps_."
   ]
  },
  {
   "cell_type": "markdown",
   "metadata": {},
   "source": [
    "### Preámbulo"
   ]
  },
  {
   "cell_type": "code",
   "execution_count": null,
   "metadata": {},
   "outputs": [],
   "source": [
    "import matplotlib.pyplot as plt\n",
    "import seaborn as sns\n",
    "import numpy as np\n",
    "import pandas as pd\n",
    "# incorporamos geopandas! geografía + pandas :)\n",
    "import geopandas as gpd\n",
    "from sklearn.preprocessing import normalize\n",
    "\n",
    "%matplotlib inline\n",
    "sns.set(context='notebook', font='Fira Sans', style='white', palette='plasma')"
   ]
  },
  {
   "cell_type": "code",
   "execution_count": null,
   "metadata": {},
   "outputs": [],
   "source": [
    "def decode_column(df, fname, col_name, index_col='Id', value_col=None, sep=';', encoding='utf-8', index_dtype=np.float64):\n",
    "    '''\n",
    "    param :df: DataFrame del que leeremos una columna.\n",
    "    param :fname: nombre del archivo que contiene los valores a decodificar.\n",
    "    param :col_name: nombre de la columna que queremos decodificar.\n",
    "    param :index_col: nombre de la columna en el archivo @fname que tiene los índices que codifican @col_name\n",
    "    param :value_col: nombre de la columna en el archivo @fname que tiene los valores decodificados\n",
    "    param :sep: carácter que separa los valores en @fname. \n",
    "    param :encoding: identificación del _character set_ que utiliza el archivo. Usualmente es utf-8, si no funciona,\n",
    "                     se puede probar con iso-8859-1.\n",
    "    '''\n",
    "    if value_col is None:\n",
    "        value_col = 'value'\n",
    "        \n",
    "    values_df = pd.read_csv(fname, sep=sep, index_col=index_col, names=[index_col, value_col], header=0,\n",
    "                            dtype={index_col: index_dtype}, encoding=encoding)\n",
    "    \n",
    "    src_df = df.loc[:,(col_name,)]\n",
    "    \n",
    "    return src_df.join(values_df, on=col_name)[value_col]\n",
    "\n",
    "def normalize_rows(df):\n",
    "    df = pd.DataFrame(normalize(df, norm='l1'), index=df.index, columns=df.columns)\n",
    "    return df\n",
    "\n",
    "def normalize_columns(df):\n",
    "    df = pd.DataFrame(normalize(df, norm='l1', axis=0), index=df.index, columns=df.columns)\n",
    "    return df\n",
    "\n",
    "def z_score_columns(df):\n",
    "    return df.apply(lambda x: (x - x.mean()) / x.std(), axis=0)"
   ]
  },
  {
   "cell_type": "markdown",
   "metadata": {},
   "source": [
    "---\n",
    "\n",
    "## Carga de Datos\n",
    "\n",
    "Noten que ahora tenemos una variable `path_maps`, que contiene los ficheros con información geográfica en formato `shapefile`."
   ]
  },
  {
   "cell_type": "code",
   "execution_count": null,
   "metadata": {},
   "outputs": [],
   "source": [
    "path = './EOD_STGO'"
   ]
  },
  {
   "cell_type": "code",
   "execution_count": null,
   "metadata": {},
   "outputs": [],
   "source": [
    "path_maps = './maps'"
   ]
  },
  {
   "cell_type": "markdown",
   "metadata": {},
   "source": [
    "### Viajes\n",
    "\n",
    "Primero, carguemos los datos que hemos trabajado en los notebooks anteriores."
   ]
  },
  {
   "cell_type": "code",
   "execution_count": null,
   "metadata": {},
   "outputs": [],
   "source": [
    "viajes = (pd.read_csv(path + '/viajes.csv', sep=';', decimal=',', index_col='Viaje')\n",
    "          .join(pd.read_csv(path + '/ViajesDifusion.csv', sep=';', index_col='Viaje'))\n",
    "          .join(pd.read_csv(path + '/DistanciaViaje.csv', sep=';', index_col='Viaje')))\n",
    "\n",
    "viajes['ModoDifusion'] = decode_column(viajes, path + '/Tablas_parametros/ModoDifusion.csv', 'ModoDifusion', encoding='latin-1',\n",
    "                                       index_col='ID')\n",
    "viajes['Proposito'] = decode_column(viajes, path + '/Tablas_parametros/Proposito.csv', col_name='Proposito')\n",
    "viajes['SectorOrigen'] = decode_column(viajes, path + '/Tablas_parametros/Sector.csv', \n",
    "                                       col_name='SectorOrigen', index_col='Sector', value_col='Nombre', sep=';')\n",
    "viajes['SectorDestino'] = decode_column(viajes, path + '/Tablas_parametros/Sector.csv', \n",
    "                                       col_name='SectorDestino', index_col='Sector', value_col='Nombre', sep=';')\n",
    "viajes['ComunaOrigen'] = decode_column(viajes, path + '/Tablas_parametros/Comunas.csv', 'ComunaOrigen', \n",
    "                                       value_col='Comuna', sep=',')\n",
    "viajes['ComunaDestino'] = decode_column(viajes, path + '/Tablas_parametros/Comunas.csv', 'ComunaDestino', \n",
    "                                       value_col='Comuna', sep=',')\n",
    "viajes['Periodo'] = decode_column(viajes, path + '/Tablas_parametros/Periodo.csv', 'Periodo', \n",
    "                                  sep=';', value_col='Periodos')\n",
    "\n",
    "# descartamos sectores que no sean relevantes en los orígenes y destinos de los viajes\n",
    "viajes = viajes[(viajes['SectorOrigen'] != 'Exterior a RM') \n",
    "                & (viajes['SectorDestino'] != 'Exterior a RM')\n",
    "                & (viajes['SectorOrigen'] != 'Extensión Sur-Poniente') \n",
    "                & (viajes['SectorDestino'] != 'Extensión Sur-Poniente')\n",
    "                & pd.notnull(viajes['SectorOrigen'])\n",
    "                & pd.notnull(viajes['SectorDestino'])\n",
    "                # también descartamos viajes que hayan sido imputados en la encuesta\n",
    "                & (viajes['Imputada'] == 0)\n",
    "                # y finalmente descartamos viajes cuya distancia indique que son viajes cortísimos o bien demasiado largos para el tamaño de la ciudad\n",
    "                & (viajes['DistManhattan'].between(500, 35000))]\n",
    "\n",
    "print(len(viajes))"
   ]
  },
  {
   "cell_type": "markdown",
   "metadata": {},
   "source": [
    "Usaremos la misma codificación personalizada para los propósitos de viaje:"
   ]
  },
  {
   "cell_type": "code",
   "execution_count": null,
   "metadata": {},
   "outputs": [],
   "source": [
    "from collections import defaultdict\n",
    "\n",
    "propositos_agregados = defaultdict(lambda: 'Otro')\n",
    "\n",
    "propositos_agregados.update({\n",
    "    'Al estudio': 'Estudio',\n",
    "    'Al trabajo': 'Trabajo',\n",
    "    'Por estudio': 'Estudio',\n",
    "    'Por trabajo': 'Trabajo',\n",
    "    'volver a casa': 'Volver a Casa',\n",
    "    'De salud': 'Necesidades',\n",
    "    'De compras': 'Necesidades',\n",
    "    'Trámites': 'Necesidades'\n",
    "})\n",
    "\n",
    "viajes['PropositoAgregado'] = viajes['Proposito'].map(lambda x: propositos_agregados[x])"
   ]
  },
  {
   "cell_type": "markdown",
   "metadata": {},
   "source": [
    "Cargamos la tabla de personas porque utilizaremos su factor de expansión:"
   ]
  },
  {
   "cell_type": "code",
   "execution_count": null,
   "metadata": {},
   "outputs": [],
   "source": [
    "personas = pd.read_csv(path + '/personas.csv', sep=';', decimal=',', encoding='utf-8')"
   ]
  },
  {
   "cell_type": "code",
   "execution_count": null,
   "metadata": {},
   "outputs": [],
   "source": [
    "viajes_persona = viajes.merge(personas)"
   ]
  },
  {
   "cell_type": "code",
   "execution_count": null,
   "metadata": {},
   "outputs": [],
   "source": [
    "viajes_persona['PesoLaboral'] = viajes_persona['FactorLaboralNormal'] * viajes_persona['Factor']"
   ]
  },
  {
   "cell_type": "markdown",
   "metadata": {},
   "source": [
    "Así, el total de viajes que tenemos para un día laboral es:"
   ]
  },
  {
   "cell_type": "code",
   "execution_count": null,
   "metadata": {},
   "outputs": [],
   "source": [
    "print('{} viajes expandidos a {}'.format(len(viajes_persona), int(viajes_persona['PesoLaboral'].sum())))"
   ]
  },
  {
   "cell_type": "markdown",
   "metadata": {},
   "source": [
    "### Geografía\n",
    "\n",
    "Para datos geográficos trabajaremos con el formato `shapefile`. Se define así:\n",
    "\n",
    "> El formato ESRI Shapefile (SHP) es un formato de archivo informático propietario de datos espaciales desarrollado por la compañía ESRI, quien crea y comercializa software para Sistemas de Información Geográfica como Arc/Info o ArcGIS. Originalmente se creó para la utilización con su producto ArcView GIS, pero actualmente se ha convertido en formato estándar de facto para el intercambio de información geográfica entre Sistemas de Información Geográfica por la importancia que los productos ESRI tienen en el mercado SIG y por estar muy bien documentado.\n",
    ">\n",
    "> Un shapefile es un formato vectorial de almacenamiento digital donde se guarda la localización de los elementos geográficos y los atributos asociados a ellos. No obstante carece de capacidad para almacenar información topológica. Es un formato multiarchivo, es decir está generado por varios ficheros informáticos. \n",
    ">\n",
    "> -- [Wikipedia](https://es.wikipedia.org/wiki/Shapefile)\n",
    "\n",
    "En general, los archivos `.shp` se almacenan en una carpeta donde otros archivos complementarios a la geografía tienen el mismo nombre pero con extensiones diferentes, por ejemplo, para almacenar meta-datos de la geografía.\n",
    "\n",
    "#### Shapefile de la Encuesta Origen-Destino\n",
    "\n",
    "La encuesta origen-destino disponibiliza un `shapefile` de las zonas de estudio en la [biblioteca](http://www.sectra.gob.cl/encuestas_movilidad/encuestas_movilidad.htm) de la SECTRA (Secretaría de Transporte). Sin embargo, el link está escondido en el código fuente de la página, ya que presenta problemas de rendering. Afortunadamente ya está en el repositorio del curso :)\n",
    "\n",
    "Para cargar `shapefiles` podemos usar la función `read_file` de `geopandas`, entregando la carpeta donde esté nuestro archivo `.shp`. Si solamente hay un `.shp`, la biblioteca lo detecta automáticamente:"
   ]
  },
  {
   "cell_type": "code",
   "execution_count": null,
   "metadata": {},
   "outputs": [],
   "source": [
    "zonas_eod = gpd.read_file(path_maps + '/Zonificacion_EOD2012')\n",
    "zonas_eod.head()"
   ]
  },
  {
   "cell_type": "markdown",
   "metadata": {},
   "source": [
    "Como ven, su apariencia es la de un `DataFrame`. Sin embargo, la columna `geometry` tiene un significado especial: contiene los elementos geográficos.\n",
    "\n",
    "Adicionalmente, un `GeoDataFrame` tiene un método `plot` que se encarga de graficar los contenidos geográficos:"
   ]
  },
  {
   "cell_type": "code",
   "execution_count": null,
   "metadata": {},
   "outputs": [],
   "source": [
    "zonas_eod.plot()"
   ]
  },
  {
   "cell_type": "markdown",
   "metadata": {},
   "source": [
    "El sistema de coordenadas utilizado por este fichero se puede ver con el atributo `crs` del `GeoDataFrame`:"
   ]
  },
  {
   "cell_type": "code",
   "execution_count": null,
   "metadata": {},
   "outputs": [],
   "source": [
    "zonas_eod.crs"
   ]
  },
  {
   "cell_type": "markdown",
   "metadata": {},
   "source": [
    "Aquí está la especificación del sistema de coordenadas [`EPSG:32719`](https://epsg.io/32719). Más adelante veremos que los archivos pueden tener sistemas de coordenadas distintos, pero que `geopandas` nos ayuda a trabajar con ello.\n",
    "\n",
    "Un `GeoDataFrame` puede hacer las mismas operaciones que un `DataFrame` tradicional, incluyendo filtrado utilizando el operador `[]`. Aquí graficaremos las zonas para las cuales tenemos viajes en nuestra tabla de viajes. Noten que la columna `ID` del `GeoDataFrame` tiene (por definición) la misma codificación que las columnas `ZonaOrigen` y `ZonaDestino` de la tabla de viajes:"
   ]
  },
  {
   "cell_type": "code",
   "execution_count": null,
   "metadata": {},
   "outputs": [],
   "source": [
    "zonas_con_viajes = zonas_eod[zonas_eod.ID.isin(viajes.ZonaOrigen.unique())\n",
    "                           & zonas_eod.ID.isin(viajes.ZonaDestino.unique())]\n",
    "zonas_con_viajes.plot()"
   ]
  },
  {
   "cell_type": "markdown",
   "metadata": {},
   "source": [
    "Tenemos menos zonas. Sin embargo, queda la sensación de que tenemos muchas zonas grandes correspondientes a zonas rurales que ocupan más espacio en el mapa que las zonas urbanas. Podemos mejorar esto utilizando datos del Censo 2017.\n",
    "\n",
    "#### Shapefiles del Censo\n",
    "\n",
    "El Censo 2017 disponibiliza una serie de `shapefiles` para cada región del país. En este caso, cargaremos un mapa para la Región Metropolitana (en la carpeta `R13`) con los límites urbanos definidos por el INE. Noten que en este caso le indicamos el nombre del archivo `.shp` a `geopandas`, debido a que la carpeta tiene otros ficheros `.shp`."
   ]
  },
  {
   "cell_type": "code",
   "execution_count": null,
   "metadata": {},
   "outputs": [],
   "source": [
    "rm = gpd.read_file(path_maps + '/R13/LIMITE_URBANO_CENSAL_C17.shp')"
   ]
  },
  {
   "cell_type": "code",
   "execution_count": null,
   "metadata": {},
   "outputs": [],
   "source": [
    "rm.head()"
   ]
  },
  {
   "cell_type": "code",
   "execution_count": null,
   "metadata": {},
   "outputs": [],
   "source": [
    "rm.plot()"
   ]
  },
  {
   "cell_type": "markdown",
   "metadata": {},
   "source": [
    "Notamos que tiene una área geográfica por comuna. Sabemos que en Santiago hay tres provincias que nos interesan, así que nos gustaría tener un área por provincia (que podría tener varios polígonos, no necesariamente uno). Para ello podemos usar el método `dissolve` de `geopandas` de la siguiente manera:"
   ]
  },
  {
   "cell_type": "code",
   "execution_count": null,
   "metadata": {},
   "outputs": [],
   "source": [
    "provincias = rm.dissolve(by='NOM_PROVIN')\n",
    "provincias.plot()"
   ]
  },
  {
   "cell_type": "code",
   "execution_count": null,
   "metadata": {},
   "outputs": [],
   "source": [
    "provincias.head()"
   ]
  },
  {
   "cell_type": "markdown",
   "metadata": {},
   "source": [
    "Como ven, desaparecieron los bordes comunales, y la columna `NOM_PROVIN` define un índice en la tabla. Esto se debe a que el resultado es equivalente a hacer un `groupby` en `pandas`. Con el operador `.loc[]` de `pandas` (y por ende, `geopandas`) podemos elegir las filas del índice que nos interesan: "
   ]
  },
  {
   "cell_type": "code",
   "execution_count": null,
   "metadata": {},
   "outputs": [],
   "source": [
    "provincias = provincias.loc[['SANTIAGO', 'CORDILLERA', 'MAIPO']]\n",
    "provincias.plot()"
   ]
  },
  {
   "cell_type": "markdown",
   "metadata": {},
   "source": [
    "¡Mucho mejor! El siguiente paso es ver como podemos intersectar las zonas EOD que tenemos con estas áreas urbanas, de modo que las zonas que estén en los bordes urbanos se recorten y queden solamente con la sección urbana que les corresponda.\n",
    "\n",
    "Para ello podemos usar la operación `overlay` de `geopandas`. Este método recibe dos `GeoDataFrame` y un nombre de operación. En este caso, diremos que queremos _intersectar_ con `zonas_con_viajes` y `rm`:"
   ]
  },
  {
   "cell_type": "code",
   "execution_count": null,
   "metadata": {},
   "outputs": [],
   "source": [
    "zonas_urbanas = gpd.overlay(zonas_con_viajes, rm, how='intersection')\n",
    "zonas_urbanas.plot()"
   ]
  },
  {
   "cell_type": "markdown",
   "metadata": {},
   "source": [
    "¡No pasó nada! \n",
    "\n",
    "Omitimos un paso crucial a la hora de trabajar con distintos `GeoDataFrames`: verificar que tengan el mismo sistema de coordenadas."
   ]
  },
  {
   "cell_type": "code",
   "execution_count": null,
   "metadata": {},
   "outputs": [],
   "source": [
    "rm.crs"
   ]
  },
  {
   "cell_type": "markdown",
   "metadata": {},
   "source": [
    "No eran el mismo. Podemos usar el método `to_crs` de `geopandas` para cambiar el sistema de coordenadas de un `geodataframe`:"
   ]
  },
  {
   "cell_type": "code",
   "execution_count": null,
   "metadata": {},
   "outputs": [],
   "source": [
    "zonas_urbanas = gpd.overlay(zonas_con_viajes.to_crs(rm.crs), rm, how='intersection')\n",
    "zonas_urbanas.plot()"
   ]
  },
  {
   "cell_type": "markdown",
   "metadata": {},
   "source": [
    "¡Ahora sí! Tenemos las mismas zonas EOD de antes, pero en el sistema de coordenadas de `rm`, y considerando solamente las áreas urbanas definidas en el censo. Así quedó el `GeoDataFrame` final:"
   ]
  },
  {
   "cell_type": "code",
   "execution_count": null,
   "metadata": {},
   "outputs": [],
   "source": [
    "zonas_urbanas.head()"
   ]
  },
  {
   "cell_type": "markdown",
   "metadata": {},
   "source": [
    "El siguiente paso es cambiarle el índice, eligiendo el atributo `ID` para ese fin. Esto nos permitirá cruzarlo con la tabla de viajes si es necesario."
   ]
  },
  {
   "cell_type": "code",
   "execution_count": null,
   "metadata": {},
   "outputs": [],
   "source": [
    "zonas_urbanas = zonas_urbanas.set_index('ID')"
   ]
  },
  {
   "cell_type": "markdown",
   "metadata": {},
   "source": [
    "En este punto, ya tenemos dos elementos que podemos utilizar para definir tareas:\n",
    "\n",
    "- La tabla de viajes, cruzada con la tabla de personas.\n",
    "- Geografía de Santiago utilizando la misma unidad de análisis espacial: zonas EOD.\n",
    "\n",
    "Definamos _tareas_ o _preguntas a responder_ con estos datos.\n",
    "\n",
    "---\n",
    "\n",
    "## 1. ¿Cuál es la distribución geográfica de los viajes de acuerdo a la cantidad de combinaciones que realizan?\n",
    "\n",
    "Para responder esta pregunta consideremos lo siguiente:\n",
    "\n",
    "- Nos interesa particularmente el _origen_ de los viajes. Por ej., esperaríamos que una comuna más periférica tuviese viajes con más combinaciones que una comuna céntrica. La tabla de viajes contiene las columnas `OrigenCoordX` y `OrigenCoordY` que nos permitirán analizar este punto.\n",
    "- Nos interesa el patrón geográfico de la distribución (no solamente saber que periférica => más combinaciones). Por tanto, necesitamos un mapa.\n",
    "- La cantidad de combinaciones está implícitamente codificada en la variable `Etapas` de la tabla de viajes."
   ]
  },
  {
   "cell_type": "code",
   "execution_count": null,
   "metadata": {},
   "outputs": [],
   "source": [
    "viajes_persona.columns"
   ]
  },
  {
   "cell_type": "markdown",
   "metadata": {},
   "source": [
    "¿Cómo lucen las coordenadas?"
   ]
  },
  {
   "cell_type": "code",
   "execution_count": null,
   "metadata": {},
   "outputs": [],
   "source": [
    "viajes_persona[['OrigenCoordX', 'OrigenCoordY']].head()"
   ]
  },
  {
   "cell_type": "markdown",
   "metadata": {},
   "source": [
    "Si bien las coordenadas están en formato numérico, no sabemos en qué sistema de coordenadas están, ni tampoco las tenemos estructuradas en un `GeoDataFrame`. Para ello, usaremos la función `points_from_xy` de `geopandas` para darle contexto geográfico a los datos. Supondremos que las coordenadas están en el mismo sistema de referencia que el `shapefile` de zonas EOD."
   ]
  },
  {
   "cell_type": "code",
   "execution_count": null,
   "metadata": {},
   "outputs": [],
   "source": [
    "origenes_viajes = gpd.GeoDataFrame(viajes_persona,\n",
    "                                   geometry=gpd.points_from_xy(viajes_persona['OrigenCoordX'], viajes_persona['OrigenCoordY']),\n",
    "                                   crs=zonas_eod.crs)\n",
    "print(len(origenes_viajes))\n",
    "origenes_viajes.head()"
   ]
  },
  {
   "cell_type": "markdown",
   "metadata": {},
   "source": [
    "Grafiquemos los orígenes de los viajes en conjunto con las zonas:"
   ]
  },
  {
   "cell_type": "code",
   "execution_count": null,
   "metadata": {},
   "outputs": [],
   "source": [
    "ax = zonas_eod.plot(figsize=(12, 12), color='#efefef', edgecolor='#abacab', linewidth=1)\n",
    "origenes_viajes.plot(ax=ax, markersize=1, marker='.')"
   ]
  },
  {
   "cell_type": "code",
   "execution_count": null,
   "metadata": {},
   "outputs": [],
   "source": [
    "origenes_urbanos = gpd.sjoin(origenes_viajes.to_crs(zonas_urbanas.crs), \n",
    "                            zonas_urbanas, \n",
    "                            op='within', lsuffix='_l', rsuffix='_r')\n",
    "print(len(origenes_urbanos))"
   ]
  },
  {
   "cell_type": "code",
   "execution_count": null,
   "metadata": {},
   "outputs": [],
   "source": [
    "origenes_urbanos.geometry"
   ]
  },
  {
   "cell_type": "code",
   "execution_count": null,
   "metadata": {},
   "outputs": [],
   "source": [
    "ax = zonas_urbanas.plot(figsize=(12, 12), color='#efefef', edgecolor='#abacab', linewidth=1)\n",
    "(origenes_urbanos\n",
    " [origenes_urbanos.PropositoAgregado == 'Trabajo']\n",
    " .plot(categorical=True, \n",
    "       column='Etapas', \n",
    "       ax=ax, \n",
    "       marker='.', \n",
    "       markersize=10,  \n",
    "       cmap='magma_r', \n",
    "       legend=True))\n",
    "\n",
    "ax.set_axis_off()"
   ]
  },
  {
   "cell_type": "code",
   "execution_count": null,
   "metadata": {},
   "outputs": [],
   "source": [
    "from sklearn.preprocessing import minmax_scale\n",
    "origenes_urbanos['PesoVisual'] = minmax_scale(origenes_urbanos['PesoLaboral'].values, (0.01, 1.0))"
   ]
  },
  {
   "cell_type": "code",
   "execution_count": null,
   "metadata": {},
   "outputs": [],
   "source": [
    "ax = zonas_urbanas.plot(figsize=(12, 12), color='#efefef', edgecolor='#abacab', linewidth=1)\n",
    "origenes_a_graficar = origenes_urbanos[origenes_urbanos.PropositoAgregado == 'Trabajo']\n",
    "\n",
    "(origenes_a_graficar\n",
    " .plot(categorical=True, \n",
    "       column='Etapas', \n",
    "       ax=ax, \n",
    "       marker='o', \n",
    "       markersize=origenes_a_graficar['PesoVisual'] * 500,  \n",
    "       alpha=0.75,\n",
    "       cmap='magma_r', \n",
    "       legend=True))\n",
    "\n",
    "ax.set_axis_off()"
   ]
  },
  {
   "cell_type": "code",
   "execution_count": null,
   "metadata": {},
   "outputs": [],
   "source": [
    "n_columns = 2\n",
    "n_rows = 2\n",
    "\n",
    "# Create figure and axes (this time it's 9, arranged 3 by 3)\n",
    "fig, axes = plt.subplots(nrows=n_rows, ncols=n_columns, figsize=(9 * n_columns, 9 * n_rows))\n",
    "# Make the axes accessible with single indexing\n",
    "axes = axes.flatten()\n",
    "\n",
    "for ax, i in zip(axes, range(1, 5)):\n",
    "    zonas_urbanas.plot(ax=ax, color='#efefef', edgecolor='#abacab', linewidth=1)\n",
    "    ax.set_title('{} Etapa(s)'.format(i))\n",
    "    \n",
    "    origenes_a_graficar = (origenes_urbanos\n",
    "                          [(origenes_urbanos.PropositoAgregado == 'Trabajo') &\n",
    "                           (origenes_urbanos.Etapas == i)])\n",
    "    \n",
    "    (origenes_a_graficar\n",
    "     .plot(categorical=True, \n",
    "           column='Etapas', \n",
    "           ax=ax, \n",
    "           marker='o', \n",
    "           markersize=origenes_a_graficar['PesoVisual'] * 500,\n",
    "           alpha=0.75,\n",
    "           legend=False))\n",
    "    ax.set_axis_off()\n",
    "    \n",
    "plt.subplots_adjust(wspace=0, hspace=0)"
   ]
  },
  {
   "cell_type": "code",
   "execution_count": null,
   "metadata": {},
   "outputs": [],
   "source": [
    "colors = sns.color_palette('magma_r', n_colors=4)\n",
    "sns.palplot(colors)"
   ]
  },
  {
   "cell_type": "code",
   "execution_count": null,
   "metadata": {},
   "outputs": [],
   "source": [
    "n_columns = 2\n",
    "n_rows = 2\n",
    "\n",
    "# Create figure and axes (this time it's 9, arranged 3 by 3)\n",
    "fig, axes = plt.subplots(nrows=n_rows, ncols=n_columns, figsize=(9 * n_columns, 9 * n_rows))\n",
    "# Make the axes accessible with single indexing\n",
    "axes = axes.flatten()\n",
    "\n",
    "for ax, i, color in zip(axes, range(1, 5), colors):\n",
    "    zonas_urbanas.plot(ax=ax, color='#efefef', edgecolor='#abacab', linewidth=1)\n",
    "    \n",
    "    origenes_a_graficar = (origenes_urbanos\n",
    "                          [(origenes_urbanos.PropositoAgregado == 'Trabajo') &\n",
    "                           (origenes_urbanos.Etapas == i)])\n",
    "    \n",
    "    ax.set_title('{} Etapa(s): {} Viajes'.format(i, int(origenes_a_graficar['PesoLaboral'].sum())))\n",
    "    \n",
    "    (origenes_a_graficar\n",
    "     .plot(categorical=True, \n",
    "           column='Etapas', \n",
    "           ax=ax, \n",
    "           marker='o', \n",
    "           markersize=origenes_a_graficar['PesoVisual'] * 500,\n",
    "           alpha=0.75,\n",
    "           legend=False,\n",
    "           edgecolor='black',\n",
    "           linewidth=0.5,\n",
    "           color=color))\n",
    "    ax.set_axis_off()\n",
    "    \n",
    "plt.subplots_adjust(wspace=0, hspace=0)"
   ]
  },
  {
   "cell_type": "markdown",
   "metadata": {},
   "source": [
    "## 2. ¿Cuán lejos queda el trabajo de acuerdo al lugar de residencia?"
   ]
  },
  {
   "cell_type": "code",
   "execution_count": null,
   "metadata": {},
   "outputs": [],
   "source": [
    "viajes_trabajo = viajes_persona[(viajes_persona.PropositoAgregado == 'Trabajo') &\n",
    "                                (pd.notnull(viajes_persona.PesoLaboral))]\n",
    "print(len(viajes_trabajo), viajes_trabajo.PesoLaboral.sum())"
   ]
  },
  {
   "cell_type": "code",
   "execution_count": null,
   "metadata": {},
   "outputs": [],
   "source": [
    "viajes_trabajo.columns"
   ]
  },
  {
   "cell_type": "code",
   "execution_count": null,
   "metadata": {},
   "outputs": [],
   "source": [
    "viajes_trabajo['DistEuclidiana'].mean()"
   ]
  },
  {
   "cell_type": "code",
   "execution_count": null,
   "metadata": {},
   "outputs": [],
   "source": [
    "def weighted_mean(df, value='DistEuclidiana', weight='PesoLaboral'):\n",
    "    weighted_sum = (df[value] * df[weight]).sum()\n",
    "    return weighted_sum / df[weight].sum()\n",
    "\n",
    "weighted_mean(viajes_trabajo)"
   ]
  },
  {
   "cell_type": "code",
   "execution_count": null,
   "metadata": {},
   "outputs": [],
   "source": [
    "distancia_zonas = viajes_trabajo.groupby(['ZonaOrigen']).apply(weighted_mean)"
   ]
  },
  {
   "cell_type": "code",
   "execution_count": null,
   "metadata": {},
   "outputs": [],
   "source": [
    "distancia_zonas"
   ]
  },
  {
   "cell_type": "code",
   "execution_count": null,
   "metadata": {},
   "outputs": [],
   "source": [
    "distancia_zonas.name = 'distancia_al_trabajo'"
   ]
  },
  {
   "cell_type": "code",
   "execution_count": null,
   "metadata": {},
   "outputs": [],
   "source": [
    "from mpl_toolkits.axes_grid1 import make_axes_locatable\n",
    "\n",
    "fig, ax = plt.subplots(1, 1, figsize=(12, 12))\n",
    "\n",
    "divider = make_axes_locatable(ax)\n",
    "cax = divider.append_axes(\"right\", size=\"5%\", pad=0.1)\n",
    "\n",
    "zonas_urbanas.join(distancia_zonas).plot(ax=ax, cax=cax,\n",
    "                                         column='distancia_al_trabajo', \n",
    "                                         cmap='YlGnBu',\n",
    "                                         edgecolor='#abacab',\n",
    "                                         linewidth=0.5,\n",
    "                                         legend=True)\n",
    "\n",
    "ax.set_axis_off()\n",
    "cax.set_ylabel('Distancia')\n",
    "ax.set_title('Promedio de Distancia al Trabajo en Santiago')"
   ]
  },
  {
   "cell_type": "markdown",
   "metadata": {},
   "source": [
    "## 3. ¿Dónde se utiliza cada modo de transporte para viajes al trabajo/estudio?"
   ]
  },
  {
   "cell_type": "code",
   "execution_count": null,
   "metadata": {},
   "outputs": [],
   "source": [
    "viajes_por_modo = (viajes_persona\n",
    "                   [viajes_persona.PropositoAgregado.isin(['Trabajo'])]\n",
    "                   .groupby(['ZonaOrigen', 'ModoDifusion'])\n",
    "                   .agg(n_viajes=('PesoLaboral', 'sum'))\n",
    "                   ['n_viajes'].unstack(fill_value=0)\n",
    "                   .pipe(normalize_columns))\n",
    "viajes_por_modo.head()"
   ]
  },
  {
   "cell_type": "code",
   "execution_count": null,
   "metadata": {},
   "outputs": [],
   "source": [
    "zonas_urbanas.join(viajes_por_modo).plot(column='Auto', cmap='magma_r', legend=True)"
   ]
  },
  {
   "cell_type": "code",
   "execution_count": null,
   "metadata": {},
   "outputs": [],
   "source": [
    "zonas_con_modo = zonas_urbanas.join(viajes_por_modo)"
   ]
  },
  {
   "cell_type": "code",
   "execution_count": null,
   "metadata": {},
   "outputs": [],
   "source": [
    "n_columns = 4\n",
    "n_rows = int(np.ceil(len(viajes_por_modo.columns) / n_columns))\n",
    "\n",
    "# Create figure and axes (this time it's 9, arranged 3 by 3)\n",
    "fig, axes = plt.subplots(nrows=n_rows, ncols=n_columns, figsize=(4 * n_columns, 6 * n_rows))\n",
    "# Make the axes accessible with single indexing\n",
    "axes = axes.flatten()\n",
    "\n",
    "for ax, column in zip(axes, viajes_por_modo.columns):\n",
    "    zonas_con_modo.plot(column=column, cmap='magma_r', legend=False, ax=ax, edgecolor='#abacab', linewidth=0.5, k=10)\n",
    "    ax.set_title(column)\n",
    "    ax.set_axis_off()\n",
    "    \n",
    "for ax in axes[len(viajes_por_modo.columns):]:\n",
    "    ax.set_visible(False)\n",
    "    \n",
    "plt.subplots_adjust(wspace=0, hspace=0)"
   ]
  },
  {
   "cell_type": "markdown",
   "metadata": {},
   "source": [
    "## 4. ¿Cuál es la distribución geográfica de las actividades en la ciudad?"
   ]
  },
  {
   "cell_type": "code",
   "execution_count": null,
   "metadata": {},
   "outputs": [],
   "source": [
    "viajes_por_proposito = (viajes_persona\n",
    "                   .groupby(['ZonaDestino', 'PropositoAgregado'])\n",
    "                   .agg(n_viajes=('PesoLaboral', 'sum'))\n",
    "                   ['n_viajes'].unstack(fill_value=0)\n",
    "                   #.pipe(normalize_columns)\n",
    "                  )\n",
    "viajes_por_proposito.head()"
   ]
  },
  {
   "cell_type": "code",
   "execution_count": null,
   "metadata": {},
   "outputs": [],
   "source": [
    "zonas_con_proposito = zonas_urbanas.join(viajes_por_proposito)"
   ]
  },
  {
   "cell_type": "code",
   "execution_count": null,
   "metadata": {},
   "outputs": [],
   "source": [
    "ax = zonas_con_proposito.plot(column='Trabajo', cmap='inferno_r', legend=True, scheme='FisherJenks', k=10)\n",
    "ax.get_legend().set_bbox_to_anchor((1., 0., 0.75, 0.9))\n",
    "plt.axis('off')\n",
    "plt.xlabel('Fracción de los Viajes')"
   ]
  },
  {
   "cell_type": "code",
   "execution_count": null,
   "metadata": {},
   "outputs": [],
   "source": [
    "n_columns = 3\n",
    "n_rows = int(np.ceil(len(viajes_por_proposito.columns) / n_columns))\n",
    "\n",
    "# Create figure and axes (this time it's 9, arranged 3 by 3)\n",
    "fig, axes = plt.subplots(nrows=n_rows, ncols=n_columns, figsize=(4 * n_columns, 6 * n_rows))\n",
    "# Make the axes accessible with single indexing\n",
    "axes = axes.flatten()\n",
    "\n",
    "for ax, column in zip(axes, viajes_por_proposito.columns):\n",
    "    zonas_con_proposito.plot(column=column, cmap='magma_r', legend=False, ax=ax, edgecolor='#abacab', linewidth=0.5, k=10,\n",
    "                            scheme='FisherJenks')\n",
    "    ax.set_title(column)\n",
    "    ax.set_axis_off()\n",
    "    \n",
    "for ax in axes[len(viajes_por_proposito.columns):]:\n",
    "    ax.set_visible(False)\n",
    "    \n",
    "plt.subplots_adjust(wspace=0, hspace=0)"
   ]
  },
  {
   "cell_type": "code",
   "execution_count": null,
   "metadata": {},
   "outputs": [],
   "source": []
  },
  {
   "cell_type": "code",
   "execution_count": null,
   "metadata": {},
   "outputs": [],
   "source": []
  },
  {
   "cell_type": "code",
   "execution_count": null,
   "metadata": {},
   "outputs": [],
   "source": []
  }
 ],
 "metadata": {
  "kernelspec": {
   "display_name": "Python 3",
   "language": "python",
   "name": "python3"
  },
  "language_info": {
   "codemirror_mode": {
    "name": "ipython",
    "version": 3
   },
   "file_extension": ".py",
   "mimetype": "text/x-python",
   "name": "python",
   "nbconvert_exporter": "python",
   "pygments_lexer": "ipython3",
   "version": "3.6.7"
  }
 },
 "nbformat": 4,
 "nbformat_minor": 4
}
